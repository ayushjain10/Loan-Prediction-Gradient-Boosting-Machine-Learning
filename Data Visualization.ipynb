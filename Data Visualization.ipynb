{
 "cells": [
  {
   "cell_type": "code",
   "execution_count": 6,
   "metadata": {},
   "outputs": [],
   "source": [
    "#Import libraries\n",
    "\n",
    "#System level library\n",
    "import sys\n",
    "\n",
    "#Library for scientific computation\n",
    "import scipy\n",
    "\n",
    "#Library for graph plotting (For visualization)\n",
    "import matplotlib\n",
    "\n",
    "#Library for analyzing tabular data\n",
    "import pandas\n",
    "\n",
    "#Library to perform vector/array operation\n",
    "import numpy\n",
    "\n",
    "#Library for machine learning algorithm\n",
    "import sklearn\n",
    "\n",
    "import seaborn"
   ]
  },
  {
   "cell_type": "code",
   "execution_count": 3,
   "metadata": {},
   "outputs": [
    {
     "name": "stderr",
     "output_type": "stream",
     "text": [
      "/anaconda3/lib/python3.7/site-packages/sklearn/ensemble/weight_boosting.py:29: DeprecationWarning: numpy.core.umath_tests is an internal NumPy module and should not be imported. It will be removed in a future NumPy release.\n",
      "  from numpy.core.umath_tests import inner1d\n"
     ]
    }
   ],
   "source": [
    "#Import necessary libraries\n",
    "\n",
    "from pandas.plotting import scatter_matrix\n",
    "\n",
    "from matplotlib import pyplot as plt\n",
    "\n",
    "from sklearn import model_selection\n",
    "\n",
    "from sklearn.metrics import confusion_matrix\n",
    "\n",
    "from sklearn.metrics import accuracy_score\n",
    "\n",
    "from sklearn.metrics import classification_report\n",
    "\n",
    "from sklearn.ensemble import GradientBoostingClassifier\n",
    "\n",
    "from sklearn.ensemble import RandomForestClassifier"
   ]
  },
  {
   "cell_type": "code",
   "execution_count": 5,
   "metadata": {},
   "outputs": [
    {
     "name": "stdout",
     "output_type": "stream",
     "text": [
      "Loan_ID                0\n",
      "Gender                 0\n",
      "Married                0\n",
      "Dependents             0\n",
      "Education              0\n",
      "Self_Employed          0\n",
      "ApplicantIncome        0\n",
      "CoapplicantIncome      0\n",
      "LoanAmount             0\n",
      "Loan_Amount_Term       0\n",
      "Credit_History         0\n",
      "Property_Area          0\n",
      "Loan_Status          367\n",
      "dtype: int64\n"
     ]
    }
   ],
   "source": [
    "trainurl = '/Users/ayushjain/Downloads/Loan Prediction Project/clean data/cleaned_train_data.csv'\n",
    "testurl = '/Users/ayushjain/Downloads/Loan Prediction Project/clean data/cleaned_test_data.csv'\n",
    "\n",
    "traindata = pandas.read_csv(trainurl)\n",
    "testdata = pandas.read_csv(testurl)\n",
    "\n",
    "totaldata = pandas.concat([traindata, testdata], sort = False)\n",
    "\n",
    "print(totaldata.isnull().sum())\n",
    "\n",
    "#The only null entries present are the ones to compute. We have to ensemble the values using either Algorithm:\n",
    "#1. Gradient Boosting\n",
    "#2. Random Forest\n",
    "\n",
    "#Let's first train the model using Gradient Boosting. Here the predictors are selected incrementally, leading to low bias and variance.\n",
    "#In GBM, subsequent predictors learn from the mistakes of the previous predictors.\n"
   ]
  },
  {
   "cell_type": "code",
   "execution_count": 41,
   "metadata": {},
   "outputs": [
    {
     "name": "stdout",
     "output_type": "stream",
     "text": [
      "Percent of Loan Approved for Females:66.96428571428571%\n",
      "Percent of Loan Approved for Males:69.32515337423312%\n"
     ]
    },
    {
     "data": {
      "image/png": "[encoded data removed]",
      "text/plain": [
       "<Figure size 432x288 with 1 Axes>"
      ]
     },
     "metadata": {
      "needs_background": "light"
     },
     "output_type": "display_data"
    }
   ],
   "source": [
    "#Data Visualization - 1\n",
    "#Use countplot from seaborn to get a view of distribution of each values for the attribute\n",
    "#Let's first start with Gender attribute\n",
    "seaborn.countplot(x = 'Gender', data = totaldata, palette=\"Greens_d\")\n",
    "\n",
    "#We see that there were a lot of Male applicants who applied for the Loan than Females.\n",
    "#Let's now see what percent of male and female applicants who applied got Loan Approved.\n",
    "var = totaldata.groupby(['Gender', 'Loan_Status']).size()\n",
    "\n",
    "print('Percent of Loan Approved for Females:'+str((var[1]/(var[0]+var[1])*100))+'%')\n",
    "\n",
    "print('Percent of Loan Approved for Males:'+str((var[3]/(var[2]+var[3])*100))+'%')\n",
    "\n",
    "#We see that approval rate of Loan is more in Male than Female."
   ]
  },
  {
   "cell_type": "code",
   "execution_count": 40,
   "metadata": {},
   "outputs": [
    {
     "name": "stdout",
     "output_type": "stream",
     "text": [
      "Percent of Loan Approved for Unmarried:62.91079812206573%\n",
      "Percent of Loan Approved for Married:71.60804020100502%\n"
     ]
    },
    {
     "data": {
      "image/png": "[encoded data removed]",
      "text/plain": [
       "<Figure size 432x288 with 1 Axes>"
      ]
     },
     "metadata": {
      "needs_background": "light"
     },
     "output_type": "display_data"
    }
   ],
   "source": [
    "#Data Visualization - 2\n",
    "\n",
    "#Let's plot countplot for Married attribute\n",
    "\n",
    "seaborn.countplot(x = 'Married', data = totaldata, palette=\"Oranges_d\")\n",
    "\n",
    "#We see that the Married people applicant were more for Loan than Unmarried\n",
    "\n",
    "#Let's see how much percent of Married and Unmarried applicants got Loan Approved\n",
    "\n",
    "var = totaldata.groupby(['Married','Loan_Status']).size()\n",
    "\n",
    "print('Percent of Loan Approved for Unmarried:'+str((var[1]/(var[0]+var[1])*100))+'%')\n",
    "\n",
    "print('Percent of Loan Approved for Married:'+str((var[4]/(var[3]+var[4])*100))+'%')\n",
    "\n",
    "#Here we see that approval rate of Loan is more for Married people than Unmarried."
   ]
  },
  {
   "cell_type": "code",
   "execution_count": 39,
   "metadata": {},
   "outputs": [
    {
     "name": "stdout",
     "output_type": "stream",
     "text": [
      "Percent of Loan Approved for Graduate:70.83333333333334%\n",
      "Percent of Loan Approved for Non-Graduate:61.19402985074627%\n"
     ]
    },
    {
     "data": {
      "image/png": "[encoded data removed]",
      "text/plain": [
       "<Figure size 432x288 with 1 Axes>"
      ]
     },
     "metadata": {
      "needs_background": "light"
     },
     "output_type": "display_data"
    }
   ],
   "source": [
    "#Data Visualization - 3\n",
    "\n",
    "#Now let's plot countplot of Education attribute\n",
    "\n",
    "seaborn.countplot(x = 'Education', data = totaldata, palette=\"Purples_d\")\n",
    "\n",
    "#We see that Graduate student applicants were more than Non-Graduate people.\n",
    "\n",
    "#Now see what percent of graduate & non-graduate student got loan approved.\n",
    "\n",
    "var = totaldata.groupby(['Education','Loan_Status']).size()\n",
    "\n",
    "print('Percent of Loan Approved for Graduate:'+str((var[1]/(var[0]+var[1])*100))+'%')\n",
    "\n",
    "print('Percent of Loan Approved for Non-Graduate:'+str((var[3]/(var[3]+var[2])*100))+'%')\n",
    "\n",
    "#Here we see that approval rate of Loan is more for Graduate people than Non-Graduate."
   ]
  },
  {
   "cell_type": "code",
   "execution_count": 38,
   "metadata": {
    "collapsed": true
   },
   "outputs": [
    {
     "name": "stdout",
     "output_type": "stream",
     "text": [
      "Percent of Loan Approved for applicants having Credit History:79.57894736842105%\n",
      "Percent of Loan Approved for applicants not having Credit History:7.865168539325842%\n"
     ]
    },
    {
     "data": {
      "image/png": "[encoded data removed]",
      "text/plain": [
       "<Figure size 432x288 with 1 Axes>"
      ]
     },
     "metadata": {
      "needs_background": "light"
     },
     "output_type": "display_data"
    }
   ],
   "source": [
    "#Data Visualization - 4\n",
    "\n",
    "#Now let's plot countplot of Credit_History attribute\n",
    "\n",
    "seaborn.countplot(x = 'Credit_History', data = totaldata, palette=\"Reds_d\")\n",
    "\n",
    "#We see that people having Credit History were more than people who doesn't have Credit History.\n",
    "\n",
    "#Now see what percent of applicants with credit history & not having credit history got loan approved.\n",
    "\n",
    "var = totaldata.groupby(['Credit_History','Loan_Status']).size()\n",
    "\n",
    "print('Percent of Loan Approved for applicants having Credit History:'+str((var[5]/(var[5]+var[4])*100))+'%')\n",
    "\n",
    "print('Percent of Loan Approved for applicants not having Credit History:'+str((var[1]/(var[1]+var[0])*100))+'%')\n",
    "\n",
    "#Here we see that approval rate of Loan is more for people having Credit history than people not having Credit History.\n"
   ]
  },
  {
   "cell_type": "code",
   "execution_count": 48,
   "metadata": {},
   "outputs": [
    {
     "name": "stdout",
     "output_type": "stream",
     "text": [
      "Percent of Loan Approved for People with no dependent:68.98550724637681%\n",
      "Percent of Loan Approved for People with dependents:68.89763779527559%\n"
     ]
    },
    {
     "data": {
      "image/png": "[encoded data removed]",
      "text/plain": [
       "<Figure size 432x288 with 1 Axes>"
      ]
     },
     "metadata": {
      "needs_background": "light"
     },
     "output_type": "display_data"
    }
   ],
   "source": [
    "#Data Visualization - 5\n",
    "\n",
    "#Now let's plot countplot of Dependents attribute\n",
    "\n",
    "seaborn.countplot(x = 'Dependents', data = totaldata)\n",
    "\n",
    "#We see that applicants with 0 dependents were more than people with 1 or more dependents.\n",
    "\n",
    "#Now see what percent of people with dependents and no dependents got loan approved.\n",
    "\n",
    "var = totaldata.groupby(['Dependents','Loan_Status']).size()\n",
    "\n",
    "print('Percent of Loan Approved for People with no dependent:'+str((var[1]/(var[0]+var[1])*100))+'%')\n",
    "\n",
    "print('Percent of Loan Approved for People with dependents:'+str(((var[3]+var[5]+var[7])/(var[3]+var[5]+var[7]+var[2]+var[4]+var[6])*100))+'%')\n",
    "\n",
    "#Here we see that approval rate of Loan is more for people with no dependents than people with dependents."
   ]
  },
  {
   "cell_type": "code",
   "execution_count": null,
   "metadata": {},
   "outputs": [],
   "source": [
    "#Now we have gathered enough information about the data. We can now start with Model fitting using Ensemblers\n",
    "\n",
    "#Now we are ready to predict the missing Loan values present in the test dataset."
   ]
  },
  {
   "cell_type": "code",
   "execution_count": null,
   "metadata": {},
   "outputs": [],
   "source": []
  }
 ],
 "metadata": {
  "kernelspec": {
   "display_name": "Python 3",
   "language": "python",
   "name": "python3"
  },
  "language_info": {
   "codemirror_mode": {
    "name": "ipython",
    "version": 3
   },
   "file_extension": ".py",
   "mimetype": "text/x-python",
   "name": "python",
   "nbconvert_exporter": "python",
   "pygments_lexer": "ipython3",
   "version": "3.7.0"
  }
 },
 "nbformat": 4,
 "nbformat_minor": 2
}
